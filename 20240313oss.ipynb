{
  "nbformat": 4,
  "nbformat_minor": 0,
  "metadata": {
    "colab": {
      "private_outputs": true,
      "provenance": [],
      "authorship_tag": "ABX9TyPPcDXKqjjOTZaAiV66+Q/a",
      "include_colab_link": true
    },
    "kernelspec": {
      "name": "python3",
      "display_name": "Python 3"
    },
    "language_info": {
      "name": "python"
    }
  },
  "cells": [
    {
      "cell_type": "markdown",
      "metadata": {
        "id": "view-in-github",
        "colab_type": "text"
      },
      "source": [
        "<a href=\"https://colab.research.google.com/github/oxigii/oss/blob/main/20240313oss.ipynb\" target=\"_parent\"><img src=\"https://colab.research.google.com/assets/colab-badge.svg\" alt=\"Open In Colab\"/></a>"
      ]
    },
    {
      "cell_type": "markdown",
      "source": [
        "# 나의 경주 여행기"
      ],
      "metadata": {
        "id": "jDCRMEbelwjR"
      }
    },
    {
      "cell_type": "markdown",
      "source": [
        "## 1일차 불국사 방문하기\n",
        "\n",
        "$ c = a^2 + 6 \\alpha $\n",
        "\n",
        "[어느사이트](http://naver.com)"
      ],
      "metadata": {
        "id": "Nkn0Iqs-l_zU"
      }
    },
    {
      "cell_type": "code",
      "source": [
        "date = \"2024-03-14\" #@param{type:\"date\"}"
      ],
      "metadata": {
        "id": "PPPZv_1KnFcB"
      },
      "execution_count": null,
      "outputs": []
    },
    {
      "cell_type": "code",
      "source": [
        "import pandas as pd"
      ],
      "metadata": {
        "id": "15oag2sTp8kq"
      },
      "execution_count": null,
      "outputs": []
    },
    {
      "cell_type": "code",
      "source": [
        "#Read a csv file\n",
        "df = pd.read_csv('sample_data/california_housing_train.csv')\n",
        "df.head()"
      ],
      "metadata": {
        "id": "zyvGhCsZpsGu"
      },
      "execution_count": null,
      "outputs": []
    },
    {
      "cell_type": "code",
      "source": [],
      "metadata": {
        "id": "ysxvQ2cUqZch"
      },
      "execution_count": null,
      "outputs": []
    }
  ]
}